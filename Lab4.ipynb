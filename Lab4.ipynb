{
 "cells": [
  {
   "cell_type": "markdown",
   "id": "b05d144f-bfb4-45cb-8bf6-def1032cdef2",
   "metadata": {},
   "source": [
    "### Лабораторная работа №4. Основы нейронных сетей"
   ]
  },
  {
   "cell_type": "markdown",
   "id": "e930960e-d575-4008-a60c-f34c30e4bc8a",
   "metadata": {},
   "source": [
    "## Измерение показаний датчиков для основных движений рук ##\n",
    "\n",
    "1 здоровый испытуемый (мужчина, 22 года \n",
    "провел шесть хватаний по 100 раз каждое \\\n",
    "в течение 3 последовательных дней \n",
    "Измеренное время составляет 5 секунд\\\n",
    "(sEMG for Basic Hand movements)."
   ]
  },
  {
   "cell_type": "code",
   "execution_count": 9,
   "id": "2581e14e-0455-4f28-8613-c30745c595ca",
   "metadata": {},
   "outputs": [],
   "source": [
    "import numpy as np\n",
    "import pandas as pd\n",
    "from matplotlib import pyplot as plt"
   ]
  },
  {
   "cell_type": "markdown",
   "id": "9432e807-ff7a-429a-8413-04d55f254ccb",
   "metadata": {},
   "source": [
    "![title](grasps_en.PNG)"
   ]
  },
  {
   "cell_type": "markdown",
   "id": "68cb7a45-ef8e-4330-b0c3-2946a1f0f5e3",
   "metadata": {},
   "source": [
    "### Подготовим данные и разделим выборку"
   ]
  },
  {
   "cell_type": "code",
   "execution_count": 10,
   "id": "d04a5648-5891-4538-b57f-0de392f98fd2",
   "metadata": {},
   "outputs": [],
   "source": [
    "import scipy.io\n",
    "mat = scipy.io.loadmat('Database2/male_day_1.mat')\n",
    "for key in ('__header__','__version__','__globals__'):\n",
    "    mat.pop(key)\n"
   ]
  },
  {
   "cell_type": "code",
   "execution_count": 11,
   "id": "2c2517b7-3b86-420a-9059-48c4328ba442",
   "metadata": {},
   "outputs": [],
   "source": [
    "Kshape = 1\n",
    "df_train = pd.DataFrame()\n",
    "df_test = pd.DataFrame()\n",
    "for key, value in mat.items():\n",
    "    data = mat[key]    \n",
    "    df_temp=pd.DataFrame(data=data[0:,0:],\n",
    "                         index=[i for i in range(data.shape[0])],\n",
    "                         columns=[str(i) for i in range(data.shape[1])])\n",
    "    df_temp['res'] = Kshape    \n",
    "    if int(key[-1]) % 2 != 0:       \n",
    "        df_train = df_train._append(df_temp,ignore_index=True)      \n",
    "    else:\n",
    "        df_test = df_test._append(df_temp,ignore_index=True)\n",
    "        Kshape += 1\n",
    "y_train = df_train['res']\n",
    "x_train = df_train.drop(['res'],axis=1)\n",
    "y_test = df_test['res']\n",
    "x_test = df_test.drop(['res'],axis=1)"
   ]
  },
  {
   "cell_type": "code",
   "execution_count": 12,
   "id": "e1b4c2ea-8c73-4ac3-bc95-a1dae3c1c0d6",
   "metadata": {},
   "outputs": [
    {
     "data": {
      "text/html": [
       "<div>\n",
       "<style scoped>\n",
       "    .dataframe tbody tr th:only-of-type {\n",
       "        vertical-align: middle;\n",
       "    }\n",
       "\n",
       "    .dataframe tbody tr th {\n",
       "        vertical-align: top;\n",
       "    }\n",
       "\n",
       "    .dataframe thead th {\n",
       "        text-align: right;\n",
       "    }\n",
       "</style>\n",
       "<table border=\"1\" class=\"dataframe\">\n",
       "  <thead>\n",
       "    <tr style=\"text-align: right;\">\n",
       "      <th></th>\n",
       "      <th>0</th>\n",
       "      <th>1</th>\n",
       "      <th>2</th>\n",
       "      <th>3</th>\n",
       "      <th>4</th>\n",
       "      <th>5</th>\n",
       "      <th>6</th>\n",
       "      <th>7</th>\n",
       "      <th>8</th>\n",
       "      <th>9</th>\n",
       "      <th>...</th>\n",
       "      <th>2491</th>\n",
       "      <th>2492</th>\n",
       "      <th>2493</th>\n",
       "      <th>2494</th>\n",
       "      <th>2495</th>\n",
       "      <th>2496</th>\n",
       "      <th>2497</th>\n",
       "      <th>2498</th>\n",
       "      <th>2499</th>\n",
       "      <th>res</th>\n",
       "    </tr>\n",
       "  </thead>\n",
       "  <tbody>\n",
       "    <tr>\n",
       "      <th>0</th>\n",
       "      <td>0.123201</td>\n",
       "      <td>0.199706</td>\n",
       "      <td>0.276211</td>\n",
       "      <td>0.072198</td>\n",
       "      <td>0.148703</td>\n",
       "      <td>0.123201</td>\n",
       "      <td>0.021195</td>\n",
       "      <td>0.123201</td>\n",
       "      <td>0.174205</td>\n",
       "      <td>0.123201</td>\n",
       "      <td>...</td>\n",
       "      <td>0.148703</td>\n",
       "      <td>0.199706</td>\n",
       "      <td>0.123201</td>\n",
       "      <td>0.046696</td>\n",
       "      <td>-0.004307</td>\n",
       "      <td>0.199706</td>\n",
       "      <td>0.123201</td>\n",
       "      <td>0.174205</td>\n",
       "      <td>0.403719</td>\n",
       "      <td>1</td>\n",
       "    </tr>\n",
       "    <tr>\n",
       "      <th>1</th>\n",
       "      <td>0.123201</td>\n",
       "      <td>0.225208</td>\n",
       "      <td>0.199706</td>\n",
       "      <td>0.174205</td>\n",
       "      <td>0.199706</td>\n",
       "      <td>0.021195</td>\n",
       "      <td>0.097700</td>\n",
       "      <td>0.123201</td>\n",
       "      <td>0.174205</td>\n",
       "      <td>0.199706</td>\n",
       "      <td>...</td>\n",
       "      <td>0.199706</td>\n",
       "      <td>0.199706</td>\n",
       "      <td>0.276211</td>\n",
       "      <td>0.225208</td>\n",
       "      <td>0.046696</td>\n",
       "      <td>-0.029808</td>\n",
       "      <td>-0.233821</td>\n",
       "      <td>0.021195</td>\n",
       "      <td>0.097700</td>\n",
       "      <td>1</td>\n",
       "    </tr>\n",
       "    <tr>\n",
       "      <th>2</th>\n",
       "      <td>0.174205</td>\n",
       "      <td>0.225208</td>\n",
       "      <td>0.123201</td>\n",
       "      <td>0.174205</td>\n",
       "      <td>0.021195</td>\n",
       "      <td>0.225208</td>\n",
       "      <td>0.097700</td>\n",
       "      <td>0.021195</td>\n",
       "      <td>0.531228</td>\n",
       "      <td>0.378218</td>\n",
       "      <td>...</td>\n",
       "      <td>0.148703</td>\n",
       "      <td>0.250710</td>\n",
       "      <td>0.225208</td>\n",
       "      <td>0.225208</td>\n",
       "      <td>0.123201</td>\n",
       "      <td>0.046696</td>\n",
       "      <td>0.097700</td>\n",
       "      <td>0.199706</td>\n",
       "      <td>-0.029808</td>\n",
       "      <td>1</td>\n",
       "    </tr>\n",
       "    <tr>\n",
       "      <th>3</th>\n",
       "      <td>0.148703</td>\n",
       "      <td>0.174205</td>\n",
       "      <td>0.021195</td>\n",
       "      <td>0.148703</td>\n",
       "      <td>0.072198</td>\n",
       "      <td>0.072198</td>\n",
       "      <td>0.352716</td>\n",
       "      <td>0.225208</td>\n",
       "      <td>0.199706</td>\n",
       "      <td>-0.284825</td>\n",
       "      <td>...</td>\n",
       "      <td>0.199706</td>\n",
       "      <td>0.046696</td>\n",
       "      <td>0.072198</td>\n",
       "      <td>0.174205</td>\n",
       "      <td>0.199706</td>\n",
       "      <td>0.301713</td>\n",
       "      <td>0.148703</td>\n",
       "      <td>0.199706</td>\n",
       "      <td>0.225208</td>\n",
       "      <td>1</td>\n",
       "    </tr>\n",
       "    <tr>\n",
       "      <th>4</th>\n",
       "      <td>0.250710</td>\n",
       "      <td>0.072198</td>\n",
       "      <td>0.123201</td>\n",
       "      <td>-0.386831</td>\n",
       "      <td>0.505726</td>\n",
       "      <td>0.454723</td>\n",
       "      <td>0.225208</td>\n",
       "      <td>-0.131815</td>\n",
       "      <td>-0.004307</td>\n",
       "      <td>-0.080812</td>\n",
       "      <td>...</td>\n",
       "      <td>0.021195</td>\n",
       "      <td>0.148703</td>\n",
       "      <td>-0.004307</td>\n",
       "      <td>0.174205</td>\n",
       "      <td>0.123201</td>\n",
       "      <td>0.352716</td>\n",
       "      <td>0.199706</td>\n",
       "      <td>0.225208</td>\n",
       "      <td>-0.080812</td>\n",
       "      <td>1</td>\n",
       "    </tr>\n",
       "  </tbody>\n",
       "</table>\n",
       "<p>5 rows × 2501 columns</p>\n",
       "</div>"
      ],
      "text/plain": [
       "          0         1         2         3         4         5         6  \\\n",
       "0  0.123201  0.199706  0.276211  0.072198  0.148703  0.123201  0.021195   \n",
       "1  0.123201  0.225208  0.199706  0.174205  0.199706  0.021195  0.097700   \n",
       "2  0.174205  0.225208  0.123201  0.174205  0.021195  0.225208  0.097700   \n",
       "3  0.148703  0.174205  0.021195  0.148703  0.072198  0.072198  0.352716   \n",
       "4  0.250710  0.072198  0.123201 -0.386831  0.505726  0.454723  0.225208   \n",
       "\n",
       "          7         8         9  ...      2491      2492      2493      2494  \\\n",
       "0  0.123201  0.174205  0.123201  ...  0.148703  0.199706  0.123201  0.046696   \n",
       "1  0.123201  0.174205  0.199706  ...  0.199706  0.199706  0.276211  0.225208   \n",
       "2  0.021195  0.531228  0.378218  ...  0.148703  0.250710  0.225208  0.225208   \n",
       "3  0.225208  0.199706 -0.284825  ...  0.199706  0.046696  0.072198  0.174205   \n",
       "4 -0.131815 -0.004307 -0.080812  ...  0.021195  0.148703 -0.004307  0.174205   \n",
       "\n",
       "       2495      2496      2497      2498      2499  res  \n",
       "0 -0.004307  0.199706  0.123201  0.174205  0.403719    1  \n",
       "1  0.046696 -0.029808 -0.233821  0.021195  0.097700    1  \n",
       "2  0.123201  0.046696  0.097700  0.199706 -0.029808    1  \n",
       "3  0.199706  0.301713  0.148703  0.199706  0.225208    1  \n",
       "4  0.123201  0.352716  0.199706  0.225208 -0.080812    1  \n",
       "\n",
       "[5 rows x 2501 columns]"
      ]
     },
     "execution_count": 12,
     "metadata": {},
     "output_type": "execute_result"
    }
   ],
   "source": [
    "df_train.head()"
   ]
  },
  {
   "cell_type": "code",
   "execution_count": 13,
   "id": "e26a0c53-f657-4f22-a71c-4fde75fb767f",
   "metadata": {},
   "outputs": [],
   "source": [
    "from sklearn.preprocessing import StandardScaler,PowerTransformer\n",
    "scaler = StandardScaler()\n",
    "scaler.fit(x_train)\n",
    "sc_x_train = scaler.transform(x_train)"
   ]
  },
  {
   "cell_type": "markdown",
   "id": "a7492f45-e3a9-4d12-b2fa-9fea04185225",
   "metadata": {},
   "source": [
    "#### Потренерум модель и предскажем результат используя Perceptron"
   ]
  },
  {
   "cell_type": "code",
   "execution_count": 14,
   "id": "1ee64cd0-7afd-4993-918b-4cf3866f2e05",
   "metadata": {},
   "outputs": [
    {
     "name": "stdout",
     "output_type": "stream",
     "text": [
      "Mean Squared Error: 5.493333333333333\n",
      "R^2 Score: -0.8834285714285715\n"
     ]
    }
   ],
   "source": [
    "from sklearn.linear_model import Perceptron\n",
    "from sklearn.metrics import mean_squared_error, r2_score\n",
    "clf = Perceptron() \n",
    "clf.fit(sc_x_train, y_train)\n",
    "y_percep = clf.predict(x_test.values)\n",
    "print(f'Mean Squared Error: {mean_squared_error(np.array(y_test), y_percep)}')\n",
    "print(f'R^2 Score: {r2_score(np.array(y_test), y_percep)}')"
   ]
  },
  {
   "cell_type": "markdown",
   "id": "07cba02a-6e9e-4d90-9006-858eaa8f4358",
   "metadata": {},
   "source": [
    "#### F1_score сбалансированный показатель ###\n",
    "Интерпретируется как гармоническое среднее значение точности и полноты,\\\n",
    "где оценка F1 достигает своего лучшего значения при 1, а худшего — при 0"
   ]
  },
  {
   "cell_type": "code",
   "execution_count": 15,
   "id": "cca624ba-de3f-42a0-9874-a2839ea978c8",
   "metadata": {},
   "outputs": [
    {
     "name": "stdout",
     "output_type": "stream",
     "text": [
      "F1 Score: 0.11574725709268559\n"
     ]
    }
   ],
   "source": [
    "from sklearn.metrics import f1_score\n",
    "f1 = f1_score(y_test, y_percep, average='weighted')\n",
    "print(f'F1 Score: {f1}')"
   ]
  },
  {
   "cell_type": "markdown",
   "id": "5f155b17-1f05-4d33-b11a-5dec7519e74b",
   "metadata": {},
   "source": [
    "#### Изменим параметры Perceptron "
   ]
  },
  {
   "cell_type": "code",
   "execution_count": 17,
   "id": "57393e15-02ba-421d-9760-7bb4a9156834",
   "metadata": {},
   "outputs": [
    {
     "name": "stdout",
     "output_type": "stream",
     "text": [
      "Mean Squared Error: 5.183333333333334\n",
      "R^2 Score: -0.7771428571428571\n",
      "F1 Score: 0.20796458920949\n"
     ]
    }
   ],
   "source": [
    "clf = Perceptron(penalty='elasticnet', eta0=0.0001)\n",
    "clf.fit(x_train, y_train)\n",
    "y_percep = clf.predict(x_test)\n",
    "print(f'Mean Squared Error: {mean_squared_error(np.array(y_test), y_percep)}')\n",
    "print(f'R^2 Score: {r2_score(np.array(y_test), y_percep)}')\n",
    "f1 = f1_score(y_test, y_percep, average='weighted')\n",
    "print(f'F1 Score: {f1}')"
   ]
  },
  {
   "cell_type": "markdown",
   "id": "bb2bfbb5-c9be-4fe5-ac0d-77a894a2fa8c",
   "metadata": {},
   "source": [
    "#### Рассмотрим данные построчно"
   ]
  },
  {
   "cell_type": "code",
   "execution_count": 18,
   "id": "a7bb9b74-b4f6-46d9-973e-f45f1b474280",
   "metadata": {},
   "outputs": [
    {
     "data": {
      "image/png": "[encoded data removed]",
      "text/plain": [
       "<Figure size 1500x500 with 1 Axes>"
      ]
     },
     "metadata": {},
     "output_type": "display_data"
    }
   ],
   "source": [
    "plt.rcParams['figure.figsize'] = [15,5]\n",
    "plt.plot(x_test.iloc[1][:2000],'r')\n",
    "plt.show()"
   ]
  },
  {
   "cell_type": "markdown",
   "id": "d595554b-914e-411c-959e-82d8fac6f1e7",
   "metadata": {},
   "source": [
    "### Используем методы оптимизации L-BFGS-B, sgd и adam"
   ]
  },
  {
   "cell_type": "code",
   "execution_count": 19,
   "id": "ae143b33-b6a6-42e4-9345-af27ffa34849",
   "metadata": {},
   "outputs": [
    {
     "data": {
      "image/png": "[encoded data removed]",
      "text/plain": [
       "<Figure size 1500x500 with 1 Axes>"
      ]
     },
     "metadata": {},
     "output_type": "display_data"
    }
   ],
   "source": [
    "from scipy.optimize import minimize, rosen, rosen_der\n",
    "res = minimize(rosen, x_test.iloc[1], method='L-BFGS-B', jac=rosen_der,\n",
    "               options={'gtol': 1e-6, 'disp': True})\n",
    "plt.plot(res.x[:2000],'r')\n",
    "plt.show()"
   ]
  },
  {
   "cell_type": "markdown",
   "id": "4d03ce6e-67ad-48c4-8f3b-39718fd07fe2",
   "metadata": {},
   "source": [
    "#### SGD"
   ]
  },
  {
   "cell_type": "code",
   "execution_count": 20,
   "id": "b88616c7-c6f2-4b50-92df-4c09411e06c8",
   "metadata": {},
   "outputs": [],
   "source": [
    "import tensorflow as tf"
   ]
  },
  {
   "cell_type": "code",
   "execution_count": 21,
   "id": "cec54433-e046-45c0-9ffc-4b9fe2bb8dcf",
   "metadata": {},
   "outputs": [],
   "source": [
    "from tensorflow import keras\n",
    "model = tf.keras.Sequential([keras.layers.Dense(units=1, input_shape=[2500])])"
   ]
  },
  {
   "cell_type": "code",
   "execution_count": 22,
   "id": "0a1129a0-f002-4637-85cf-1cb93d8d95c6",
   "metadata": {},
   "outputs": [],
   "source": [
    "model.compile(optimizer='sgd', loss='mean_squared_error')"
   ]
  },
  {
   "cell_type": "code",
   "execution_count": 23,
   "id": "1e32ebde-7b26-4ded-8425-c05c1c7ce1a0",
   "metadata": {},
   "outputs": [
    {
     "data": {
      "text/plain": [
       "<keras.src.callbacks.History at 0x64a7880fd0>"
      ]
     },
     "execution_count": 23,
     "metadata": {},
     "output_type": "execute_result"
    }
   ],
   "source": [
    "model.fit(x_train, y_train, epochs=20,verbose=0)"
   ]
  },
  {
   "cell_type": "code",
   "execution_count": 24,
   "id": "21a79aa4-37a0-4189-95cd-57b0757ef35f",
   "metadata": {},
   "outputs": [
    {
     "name": "stdout",
     "output_type": "stream",
     "text": [
      "19/19 [==============================] - 0s 2ms/step\n"
     ]
    }
   ],
   "source": [
    "y_preds = model.predict(x_test)"
   ]
  },
  {
   "cell_type": "code",
   "execution_count": 25,
   "id": "8c3bd5d5-e483-4b66-8ef4-4dc41262f17a",
   "metadata": {},
   "outputs": [],
   "source": [
    "y_round_pr = np.round(y_preds)"
   ]
  },
  {
   "cell_type": "code",
   "execution_count": 26,
   "id": "1a5ea25c-b835-48c1-a2f5-42c53b3d4bd7",
   "metadata": {},
   "outputs": [
    {
     "name": "stdout",
     "output_type": "stream",
     "text": [
      "F1 Score: 0.1799014147288627\n"
     ]
    }
   ],
   "source": [
    "f1 = f1_score(y_test, y_round_pr, average='weighted')\n",
    "print(f'F1 Score: {f1}')"
   ]
  },
  {
   "cell_type": "markdown",
   "id": "d2dc5613-169f-4891-90ea-31b3319af0b4",
   "metadata": {},
   "source": [
    "### Adam"
   ]
  },
  {
   "cell_type": "code",
   "execution_count": 27,
   "id": "bff14b42-6370-462c-b237-cb4940b933ea",
   "metadata": {},
   "outputs": [
    {
     "name": "stdout",
     "output_type": "stream",
     "text": [
      "19/19 [==============================] - 0s 2ms/step\n",
      "F1 Score: 0.13685836626845402\n"
     ]
    }
   ],
   "source": [
    "model.compile(optimizer='adam', loss='Poisson') \n",
    "model.fit(x_train, y_train, epochs=20,verbose=0)\n",
    "adam_y_preds = model.predict(x_test)\n",
    "adam_y = np.round(adam_y_preds)\n",
    "f1 = f1_score(y_test, adam_y, average='weighted')\n",
    "print(f'F1 Score: {f1}')"
   ]
  },
  {
   "cell_type": "markdown",
   "id": "f369a736-04c2-4c1b-b31e-faa5caad11b9",
   "metadata": {},
   "source": [
    "## MLPClassifier ##"
   ]
  },
  {
   "cell_type": "code",
   "execution_count": 78,
   "id": "3946b483-3821-487b-b78a-eadd8e4a713e",
   "metadata": {},
   "outputs": [
    {
     "name": "stdout",
     "output_type": "stream",
     "text": [
      "Mean Squared Error: 5.746666666666667\n",
      "R^2 Score: -0.9702857142857142\n",
      "F1 Score: 0.1799014147288627\n"
     ]
    }
   ],
   "source": [
    "from sklearn.neural_network import MLPClassifier\n",
    "clf = MLPClassifier(random_state=1).fit(x_train, y_train)\n",
    "y_percep = clf.predict(x_test)\n",
    "print(f'Mean Squared Error: {mean_squared_error(np.array(y_test), y_percep)}')\n",
    "print(f'R^2 Score: {r2_score(np.array(y_test), y_percep)}')\n",
    "f1 = f1_score(y_test, y_round_pr, average='weighted')\n",
    "print(f'F1 Score: {f1}')"
   ]
  },
  {
   "cell_type": "code",
   "execution_count": null,
   "id": "8364d28f-e0cc-4d9f-a032-9d302619421f",
   "metadata": {},
   "outputs": [],
   "source": []
  }
 ],
 "metadata": {
  "kernelspec": {
   "display_name": "Python 3 (ipykernel)",
   "language": "python",
   "name": "python3"
  },
  "language_info": {
   "codemirror_mode": {
    "name": "ipython",
    "version": 3
   },
   "file_extension": ".py",
   "mimetype": "text/x-python",
   "name": "python",
   "nbconvert_exporter": "python",
   "pygments_lexer": "ipython3",
   "version": "3.11.4"
  }
 },
 "nbformat": 4,
 "nbformat_minor": 5
}
